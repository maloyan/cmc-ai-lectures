{
 "cells": [
  {
   "cell_type": "markdown",
   "id": "db925516-14a7-4cc5-b8eb-a0a369f06ece",
   "metadata": {},
   "source": [
    "![](images/sber.png)"
   ]
  },
  {
   "cell_type": "markdown",
   "id": "9575cef0-669a-4927-9444-4cc392c094ec",
   "metadata": {},
   "source": [
    "## Rule #1\n",
    "Не надо пытаться везде “внедрить ИИ”"
   ]
  },
  {
   "cell_type": "markdown",
   "id": "ec4eb6b2-b23c-4e9f-a534-4d909d628b9f",
   "metadata": {},
   "source": [
    "## Машинное обучение\n",
    "Оперделение: Класс методов искусственного интеллекта, характерной чертой которых является не прямое решение задачи, а обучение за счёт применения решений множества сходных задач"
   ]
  },
  {
   "cell_type": "markdown",
   "id": "4f38425d-d83e-4bfa-bb02-d2596e2be9c7",
   "metadata": {},
   "source": [
    "![](images/ai_ml_dl_nn.png)"
   ]
  },
  {
   "cell_type": "markdown",
   "id": "36205449-fd59-40f0-b9c4-46eabe86f93f",
   "metadata": {},
   "source": [
    "## Как ставить задачу\n",
    "\n",
    "Рассмотрим классификатор спама почты, который будет отслеживать какие письма были помечены как спам и обучаться лучше его фильтровать\n",
    "\n",
    "$T$ - классификация писем как спам/не спам\n",
    "\n",
    "$E$ - отслеживание того, какие письма помечены как спам\n",
    "\n",
    "$P$ - количество корректно предсказанных меток спам/не спам относительно всего количества писем\n",
    "\n",
    "![](images/spam_not_spam.png)"
   ]
  },
  {
   "cell_type": "markdown",
   "id": "be53c581-d410-4bf1-9344-c183fed7d438",
   "metadata": {},
   "source": [
    "## [Определение по Митчелу](https://www.cin.ufpe.br/~cavmj/Machine%20-%20Learning%20-%20Tom%20Mitchell.pdf)\n",
    "\n",
    "Говорят, что компьютерная программа обучается\n",
    "\n",
    "- на основе опыта $E$ \n",
    "- по отношению к некоторому классу задач $T$ \n",
    "- и меры качества $P$, \n",
    "\n",
    "если качество решения задач из $T$, измеренное на основе $P$, улучшается с приобретением опыта $E$."
   ]
  },
  {
   "cell_type": "markdown",
   "id": "475d1132-877b-4074-8e8e-53b0f668d56f",
   "metadata": {},
   "source": [
    "![](images/ml_taxonomy.png)"
   ]
  },
  {
   "cell_type": "markdown",
   "id": "ec259d2d-a462-4bd4-9a8e-6dff55b7c304",
   "metadata": {},
   "source": [
    "## Задачи классификации и регрессии"
   ]
  },
  {
   "cell_type": "code",
   "execution_count": 38,
   "id": "dd81b4e0-71ca-4c30-a04b-7bff63eeba9c",
   "metadata": {},
   "outputs": [],
   "source": [
    "import pandas as pd\n",
    "import numpy as np\n",
    "\n",
    "import matplotlib.pyplot as plt"
   ]
  },
  {
   "cell_type": "code",
   "execution_count": 39,
   "id": "819dd484-ab14-46b5-920e-c18f85bb88f0",
   "metadata": {},
   "outputs": [],
   "source": [
    "# Регрессия (house prices)\n",
    "from sklearn.datasets import fetch_openml\n",
    "housing = fetch_openml(name=\"house_prices\", as_frame=True)"
   ]
  },
  {
   "cell_type": "code",
   "execution_count": 6,
   "id": "1d70f413-379a-4647-b61e-2add18ed4649",
   "metadata": {},
   "outputs": [
    {
     "data": {
      "text/html": [
       "<div>\n",
       "<style scoped>\n",
       "    .dataframe tbody tr th:only-of-type {\n",
       "        vertical-align: middle;\n",
       "    }\n",
       "\n",
       "    .dataframe tbody tr th {\n",
       "        vertical-align: top;\n",
       "    }\n",
       "\n",
       "    .dataframe thead th {\n",
       "        text-align: right;\n",
       "    }\n",
       "</style>\n",
       "<table border=\"1\" class=\"dataframe\">\n",
       "  <thead>\n",
       "    <tr style=\"text-align: right;\">\n",
       "      <th></th>\n",
       "      <th>Id</th>\n",
       "      <th>MSSubClass</th>\n",
       "      <th>MSZoning</th>\n",
       "      <th>LotFrontage</th>\n",
       "      <th>LotArea</th>\n",
       "      <th>Street</th>\n",
       "      <th>Alley</th>\n",
       "      <th>LotShape</th>\n",
       "      <th>LandContour</th>\n",
       "      <th>Utilities</th>\n",
       "      <th>...</th>\n",
       "      <th>PoolArea</th>\n",
       "      <th>PoolQC</th>\n",
       "      <th>Fence</th>\n",
       "      <th>MiscFeature</th>\n",
       "      <th>MiscVal</th>\n",
       "      <th>MoSold</th>\n",
       "      <th>YrSold</th>\n",
       "      <th>SaleType</th>\n",
       "      <th>SaleCondition</th>\n",
       "      <th>target</th>\n",
       "    </tr>\n",
       "  </thead>\n",
       "  <tbody>\n",
       "    <tr>\n",
       "      <th>0</th>\n",
       "      <td>1.0</td>\n",
       "      <td>60.0</td>\n",
       "      <td>RL</td>\n",
       "      <td>65.0</td>\n",
       "      <td>8450.0</td>\n",
       "      <td>Pave</td>\n",
       "      <td>None</td>\n",
       "      <td>Reg</td>\n",
       "      <td>Lvl</td>\n",
       "      <td>AllPub</td>\n",
       "      <td>...</td>\n",
       "      <td>0.0</td>\n",
       "      <td>None</td>\n",
       "      <td>None</td>\n",
       "      <td>None</td>\n",
       "      <td>0.0</td>\n",
       "      <td>2.0</td>\n",
       "      <td>2008.0</td>\n",
       "      <td>WD</td>\n",
       "      <td>Normal</td>\n",
       "      <td>208500.0</td>\n",
       "    </tr>\n",
       "    <tr>\n",
       "      <th>1</th>\n",
       "      <td>2.0</td>\n",
       "      <td>20.0</td>\n",
       "      <td>RL</td>\n",
       "      <td>80.0</td>\n",
       "      <td>9600.0</td>\n",
       "      <td>Pave</td>\n",
       "      <td>None</td>\n",
       "      <td>Reg</td>\n",
       "      <td>Lvl</td>\n",
       "      <td>AllPub</td>\n",
       "      <td>...</td>\n",
       "      <td>0.0</td>\n",
       "      <td>None</td>\n",
       "      <td>None</td>\n",
       "      <td>None</td>\n",
       "      <td>0.0</td>\n",
       "      <td>5.0</td>\n",
       "      <td>2007.0</td>\n",
       "      <td>WD</td>\n",
       "      <td>Normal</td>\n",
       "      <td>181500.0</td>\n",
       "    </tr>\n",
       "    <tr>\n",
       "      <th>2</th>\n",
       "      <td>3.0</td>\n",
       "      <td>60.0</td>\n",
       "      <td>RL</td>\n",
       "      <td>68.0</td>\n",
       "      <td>11250.0</td>\n",
       "      <td>Pave</td>\n",
       "      <td>None</td>\n",
       "      <td>IR1</td>\n",
       "      <td>Lvl</td>\n",
       "      <td>AllPub</td>\n",
       "      <td>...</td>\n",
       "      <td>0.0</td>\n",
       "      <td>None</td>\n",
       "      <td>None</td>\n",
       "      <td>None</td>\n",
       "      <td>0.0</td>\n",
       "      <td>9.0</td>\n",
       "      <td>2008.0</td>\n",
       "      <td>WD</td>\n",
       "      <td>Normal</td>\n",
       "      <td>223500.0</td>\n",
       "    </tr>\n",
       "    <tr>\n",
       "      <th>3</th>\n",
       "      <td>4.0</td>\n",
       "      <td>70.0</td>\n",
       "      <td>RL</td>\n",
       "      <td>60.0</td>\n",
       "      <td>9550.0</td>\n",
       "      <td>Pave</td>\n",
       "      <td>None</td>\n",
       "      <td>IR1</td>\n",
       "      <td>Lvl</td>\n",
       "      <td>AllPub</td>\n",
       "      <td>...</td>\n",
       "      <td>0.0</td>\n",
       "      <td>None</td>\n",
       "      <td>None</td>\n",
       "      <td>None</td>\n",
       "      <td>0.0</td>\n",
       "      <td>2.0</td>\n",
       "      <td>2006.0</td>\n",
       "      <td>WD</td>\n",
       "      <td>Abnorml</td>\n",
       "      <td>140000.0</td>\n",
       "    </tr>\n",
       "    <tr>\n",
       "      <th>4</th>\n",
       "      <td>5.0</td>\n",
       "      <td>60.0</td>\n",
       "      <td>RL</td>\n",
       "      <td>84.0</td>\n",
       "      <td>14260.0</td>\n",
       "      <td>Pave</td>\n",
       "      <td>None</td>\n",
       "      <td>IR1</td>\n",
       "      <td>Lvl</td>\n",
       "      <td>AllPub</td>\n",
       "      <td>...</td>\n",
       "      <td>0.0</td>\n",
       "      <td>None</td>\n",
       "      <td>None</td>\n",
       "      <td>None</td>\n",
       "      <td>0.0</td>\n",
       "      <td>12.0</td>\n",
       "      <td>2008.0</td>\n",
       "      <td>WD</td>\n",
       "      <td>Normal</td>\n",
       "      <td>250000.0</td>\n",
       "    </tr>\n",
       "  </tbody>\n",
       "</table>\n",
       "<p>5 rows × 81 columns</p>\n",
       "</div>"
      ],
      "text/plain": [
       "    Id  MSSubClass MSZoning  LotFrontage  LotArea Street Alley LotShape  \\\n",
       "0  1.0        60.0       RL         65.0   8450.0   Pave  None      Reg   \n",
       "1  2.0        20.0       RL         80.0   9600.0   Pave  None      Reg   \n",
       "2  3.0        60.0       RL         68.0  11250.0   Pave  None      IR1   \n",
       "3  4.0        70.0       RL         60.0   9550.0   Pave  None      IR1   \n",
       "4  5.0        60.0       RL         84.0  14260.0   Pave  None      IR1   \n",
       "\n",
       "  LandContour Utilities  ... PoolArea PoolQC Fence MiscFeature MiscVal MoSold  \\\n",
       "0         Lvl    AllPub  ...      0.0   None  None        None     0.0    2.0   \n",
       "1         Lvl    AllPub  ...      0.0   None  None        None     0.0    5.0   \n",
       "2         Lvl    AllPub  ...      0.0   None  None        None     0.0    9.0   \n",
       "3         Lvl    AllPub  ...      0.0   None  None        None     0.0    2.0   \n",
       "4         Lvl    AllPub  ...      0.0   None  None        None     0.0   12.0   \n",
       "\n",
       "   YrSold  SaleType  SaleCondition    target  \n",
       "0  2008.0        WD         Normal  208500.0  \n",
       "1  2007.0        WD         Normal  181500.0  \n",
       "2  2008.0        WD         Normal  223500.0  \n",
       "3  2006.0        WD        Abnorml  140000.0  \n",
       "4  2008.0        WD         Normal  250000.0  \n",
       "\n",
       "[5 rows x 81 columns]"
      ]
     },
     "execution_count": 6,
     "metadata": {},
     "output_type": "execute_result"
    }
   ],
   "source": [
    "df_boston = pd.DataFrame(housing.data,columns=housing.feature_names)\n",
    "df_boston['target'] = pd.Series(housing.target)\n",
    "df_boston.head()"
   ]
  },
  {
   "cell_type": "markdown",
   "id": "a809a059-8376-4a67-a619-709a664d3598",
   "metadata": {},
   "source": [
    "## [Карта визуализаций с кодом](https://www.data-to-viz.com/)\n",
    "\n",
    "![](images/data_to_viz.png)"
   ]
  },
  {
   "cell_type": "code",
   "execution_count": 7,
   "id": "cf7d24df-a537-4d67-9bd7-f73e3310d70c",
   "metadata": {},
   "outputs": [
    {
     "data": {
      "text/plain": [
       "(array([148., 723., 373., 135.,  51.,  19.,   4.,   3.,   2.,   2.]),\n",
       " array([ 34900., 106910., 178920., 250930., 322940., 394950., 466960.,\n",
       "        538970., 610980., 682990., 755000.]),\n",
       " <BarContainer object of 10 artists>)"
      ]
     },
     "execution_count": 7,
     "metadata": {},
     "output_type": "execute_result"
    },
    {
     "data": {
      "image/png": "[encoded data removed]",
      "text/plain": [
       "<Figure size 432x288 with 1 Axes>"
      ]
     },
     "metadata": {
      "needs_background": "light"
     },
     "output_type": "display_data"
    }
   ],
   "source": [
    "plt.hist(df_boston['target'])"
   ]
  },
  {
   "cell_type": "code",
   "execution_count": 11,
   "id": "b4da1497-cce1-4b20-ae3f-b76a6e6c6462",
   "metadata": {},
   "outputs": [
    {
     "data": {
      "text/plain": [
       "Index(['Id', 'MSSubClass', 'MSZoning', 'LotFrontage', 'LotArea', 'Street',\n",
       "       'Alley', 'LotShape', 'LandContour', 'Utilities', 'LotConfig',\n",
       "       'LandSlope', 'Neighborhood', 'Condition1', 'Condition2', 'BldgType',\n",
       "       'HouseStyle', 'OverallQual', 'OverallCond', 'YearBuilt', 'YearRemodAdd',\n",
       "       'RoofStyle', 'RoofMatl', 'Exterior1st', 'Exterior2nd', 'MasVnrType',\n",
       "       'MasVnrArea', 'ExterQual', 'ExterCond', 'Foundation', 'BsmtQual',\n",
       "       'BsmtCond', 'BsmtExposure', 'BsmtFinType1', 'BsmtFinSF1',\n",
       "       'BsmtFinType2', 'BsmtFinSF2', 'BsmtUnfSF', 'TotalBsmtSF', 'Heating',\n",
       "       'HeatingQC', 'CentralAir', 'Electrical', '1stFlrSF', '2ndFlrSF',\n",
       "       'LowQualFinSF', 'GrLivArea', 'BsmtFullBath', 'BsmtHalfBath', 'FullBath',\n",
       "       'HalfBath', 'BedroomAbvGr', 'KitchenAbvGr', 'KitchenQual',\n",
       "       'TotRmsAbvGrd', 'Functional', 'Fireplaces', 'FireplaceQu', 'GarageType',\n",
       "       'GarageYrBlt', 'GarageFinish', 'GarageCars', 'GarageArea', 'GarageQual',\n",
       "       'GarageCond', 'PavedDrive', 'WoodDeckSF', 'OpenPorchSF',\n",
       "       'EnclosedPorch', '3SsnPorch', 'ScreenPorch', 'PoolArea', 'PoolQC',\n",
       "       'Fence', 'MiscFeature', 'MiscVal', 'MoSold', 'YrSold', 'SaleType',\n",
       "       'SaleCondition', 'target'],\n",
       "      dtype='object')"
      ]
     },
     "execution_count": 11,
     "metadata": {},
     "output_type": "execute_result"
    }
   ],
   "source": [
    "df_boston.columns"
   ]
  },
  {
   "cell_type": "code",
   "execution_count": 13,
   "id": "5c4565b0-d0a8-48d7-b0b2-ef29416aca87",
   "metadata": {},
   "outputs": [
    {
     "data": {
      "text/plain": [
       "[<matplotlib.lines.Line2D at 0x7f7d681599a0>]"
      ]
     },
     "execution_count": 13,
     "metadata": {},
     "output_type": "execute_result"
    },
    {
     "data": {
      "image/png": "[encoded data removed]",
      "text/plain": [
       "<Figure size 432x288 with 1 Axes>"
      ]
     },
     "metadata": {
      "needs_background": "light"
     },
     "output_type": "display_data"
    }
   ],
   "source": [
    "plt.plot(df_boston.GrLivArea, df_boston.target, linestyle='none', marker='o')"
   ]
  },
  {
   "cell_type": "code",
   "execution_count": 14,
   "id": "c0231bba-2242-4eff-a841-7b1498770350",
   "metadata": {},
   "outputs": [
    {
     "data": {
      "text/html": [
       "<div>\n",
       "<style scoped>\n",
       "    .dataframe tbody tr th:only-of-type {\n",
       "        vertical-align: middle;\n",
       "    }\n",
       "\n",
       "    .dataframe tbody tr th {\n",
       "        vertical-align: top;\n",
       "    }\n",
       "\n",
       "    .dataframe thead th {\n",
       "        text-align: right;\n",
       "    }\n",
       "</style>\n",
       "<table border=\"1\" class=\"dataframe\">\n",
       "  <thead>\n",
       "    <tr style=\"text-align: right;\">\n",
       "      <th></th>\n",
       "      <th>sepal length (cm)</th>\n",
       "      <th>sepal width (cm)</th>\n",
       "      <th>petal length (cm)</th>\n",
       "      <th>petal width (cm)</th>\n",
       "      <th>target</th>\n",
       "    </tr>\n",
       "  </thead>\n",
       "  <tbody>\n",
       "    <tr>\n",
       "      <th>0</th>\n",
       "      <td>5.1</td>\n",
       "      <td>3.5</td>\n",
       "      <td>1.4</td>\n",
       "      <td>0.2</td>\n",
       "      <td>0</td>\n",
       "    </tr>\n",
       "    <tr>\n",
       "      <th>1</th>\n",
       "      <td>4.9</td>\n",
       "      <td>3.0</td>\n",
       "      <td>1.4</td>\n",
       "      <td>0.2</td>\n",
       "      <td>0</td>\n",
       "    </tr>\n",
       "    <tr>\n",
       "      <th>2</th>\n",
       "      <td>4.7</td>\n",
       "      <td>3.2</td>\n",
       "      <td>1.3</td>\n",
       "      <td>0.2</td>\n",
       "      <td>0</td>\n",
       "    </tr>\n",
       "    <tr>\n",
       "      <th>3</th>\n",
       "      <td>4.6</td>\n",
       "      <td>3.1</td>\n",
       "      <td>1.5</td>\n",
       "      <td>0.2</td>\n",
       "      <td>0</td>\n",
       "    </tr>\n",
       "    <tr>\n",
       "      <th>4</th>\n",
       "      <td>5.0</td>\n",
       "      <td>3.6</td>\n",
       "      <td>1.4</td>\n",
       "      <td>0.2</td>\n",
       "      <td>0</td>\n",
       "    </tr>\n",
       "  </tbody>\n",
       "</table>\n",
       "</div>"
      ],
      "text/plain": [
       "   sepal length (cm)  sepal width (cm)  petal length (cm)  petal width (cm)  \\\n",
       "0                5.1               3.5                1.4               0.2   \n",
       "1                4.9               3.0                1.4               0.2   \n",
       "2                4.7               3.2                1.3               0.2   \n",
       "3                4.6               3.1                1.5               0.2   \n",
       "4                5.0               3.6                1.4               0.2   \n",
       "\n",
       "   target  \n",
       "0       0  \n",
       "1       0  \n",
       "2       0  \n",
       "3       0  \n",
       "4       0  "
      ]
     },
     "execution_count": 14,
     "metadata": {},
     "output_type": "execute_result"
    }
   ],
   "source": [
    "# Классификация цветов (Ирис)\n",
    "\n",
    "from sklearn.datasets import load_iris\n",
    "iris = load_iris(as_frame=True)\n",
    "\n",
    "df_iris = pd.DataFrame(iris.data,columns=iris.feature_names)\n",
    "df_iris['target'] = pd.Series(iris.target)\n",
    "df_iris.head()"
   ]
  },
  {
   "cell_type": "code",
   "execution_count": 15,
   "id": "c19c91a5-5108-4ba0-8062-327a3274450c",
   "metadata": {},
   "outputs": [
    {
     "data": {
      "text/plain": [
       "0    50\n",
       "1    50\n",
       "2    50\n",
       "Name: target, dtype: int64"
      ]
     },
     "execution_count": 15,
     "metadata": {},
     "output_type": "execute_result"
    }
   ],
   "source": [
    "df_iris.target.value_counts()"
   ]
  },
  {
   "cell_type": "code",
   "execution_count": 16,
   "id": "3b452f1d-2188-4735-ab29-5c022ff6e8f5",
   "metadata": {},
   "outputs": [
    {
     "data": {
      "text/plain": [
       "(array([50.,  0.,  0.,  0.,  0., 50.,  0.,  0.,  0., 50.]),\n",
       " array([0. , 0.2, 0.4, 0.6, 0.8, 1. , 1.2, 1.4, 1.6, 1.8, 2. ]),\n",
       " <BarContainer object of 10 artists>)"
      ]
     },
     "execution_count": 16,
     "metadata": {},
     "output_type": "execute_result"
    },
    {
     "data": {
      "image/png": "[encoded data removed]",
      "text/plain": [
       "<Figure size 432x288 with 1 Axes>"
      ]
     },
     "metadata": {
      "needs_background": "light"
     },
     "output_type": "display_data"
    }
   ],
   "source": [
    "plt.hist(df_iris['target'])"
   ]
  },
  {
   "cell_type": "markdown",
   "id": "52182b1f-0e27-4c0d-b8db-0e89a5af5422",
   "metadata": {},
   "source": [
    "## Unsupervised learning\n",
    "\n",
    "Необходимо получить вектор эмбеддинг (неявная репрезентация) для данных, у которых нет целевой метки или ее специально скрыли\n",
    "\n",
    "![](images/mnist.jpeg)\n",
    "\n",
    "[Пример](https://projector.tensorflow.org/)"
   ]
  },
  {
   "cell_type": "markdown",
   "id": "5ec1bdb4-cfcc-4f26-8560-19727ece73cf",
   "metadata": {},
   "source": [
    "## Reinforcement Learning\n",
    "\n",
    "![](images/rl.png)\n",
    "\n",
    "[CoastRunners 7 Failure](https://www.youtube.com/watch?v=tlOIHko8ySg)"
   ]
  },
  {
   "cell_type": "markdown",
   "id": "21f16116-be59-4820-aa7f-40f034c34dfd",
   "metadata": {},
   "source": [
    "## Примеры задачи для постановки (E, T, P) \n",
    "\n",
    "- Вам необходимо сделать закупку мандаринов на новый год. Имея исторические данные необходимо предсказать сколько мандаринов надо закупить\n",
    "- Медицинский центр хочет проанализировать данные МРТ снимков головного мозга для определения злокачественности опухоли\n"
   ]
  },
  {
   "cell_type": "markdown",
   "id": "dee30e1d-e2a1-4ec9-aa15-5631281352f4",
   "metadata": {},
   "source": [
    "## Linear Regression (1 variable)\n",
    "\n",
    "Обозначения:\n",
    "\n",
    "- $m$ - количество примеров в данных\n",
    "- $x$ - input (признаки)\n",
    "- $y$ - target (значение, которое надо предсказать)\n",
    "\n",
    "$(x_i, y_i)$ - i строка в данных\n"
   ]
  },
  {
   "cell_type": "code",
   "execution_count": 17,
   "id": "141c26cc-6913-4346-8c1a-609d52df6d38",
   "metadata": {},
   "outputs": [
    {
     "data": {
      "text/html": [
       "<div>\n",
       "<style scoped>\n",
       "    .dataframe tbody tr th:only-of-type {\n",
       "        vertical-align: middle;\n",
       "    }\n",
       "\n",
       "    .dataframe tbody tr th {\n",
       "        vertical-align: top;\n",
       "    }\n",
       "\n",
       "    .dataframe thead th {\n",
       "        text-align: right;\n",
       "    }\n",
       "</style>\n",
       "<table border=\"1\" class=\"dataframe\">\n",
       "  <thead>\n",
       "    <tr style=\"text-align: right;\">\n",
       "      <th></th>\n",
       "      <th>x</th>\n",
       "      <th>y</th>\n",
       "    </tr>\n",
       "  </thead>\n",
       "  <tbody>\n",
       "    <tr>\n",
       "      <th>0</th>\n",
       "      <td>24</td>\n",
       "      <td>21.549452</td>\n",
       "    </tr>\n",
       "    <tr>\n",
       "      <th>1</th>\n",
       "      <td>50</td>\n",
       "      <td>47.464463</td>\n",
       "    </tr>\n",
       "    <tr>\n",
       "      <th>2</th>\n",
       "      <td>15</td>\n",
       "      <td>17.218656</td>\n",
       "    </tr>\n",
       "    <tr>\n",
       "      <th>3</th>\n",
       "      <td>38</td>\n",
       "      <td>36.586398</td>\n",
       "    </tr>\n",
       "    <tr>\n",
       "      <th>4</th>\n",
       "      <td>87</td>\n",
       "      <td>87.288984</td>\n",
       "    </tr>\n",
       "  </tbody>\n",
       "</table>\n",
       "</div>"
      ],
      "text/plain": [
       "    x          y\n",
       "0  24  21.549452\n",
       "1  50  47.464463\n",
       "2  15  17.218656\n",
       "3  38  36.586398\n",
       "4  87  87.288984"
      ]
     },
     "execution_count": 17,
     "metadata": {},
     "output_type": "execute_result"
    }
   ],
   "source": [
    "df = pd.read_csv(\"train.csv\")\n",
    "\n",
    "df.head()"
   ]
  },
  {
   "cell_type": "code",
   "execution_count": 20,
   "id": "16a22ceb-fbac-4c48-b5dc-0c0070fc1a81",
   "metadata": {},
   "outputs": [
    {
     "data": {
      "text/plain": [
       "[<matplotlib.lines.Line2D at 0x7f7dca842a60>]"
      ]
     },
     "execution_count": 20,
     "metadata": {},
     "output_type": "execute_result"
    },
    {
     "data": {
      "image/png": "[encoded data removed]",
      "text/plain": [
       "<Figure size 432x288 with 1 Axes>"
      ]
     },
     "metadata": {
      "needs_background": "light"
     },
     "output_type": "display_data"
    }
   ],
   "source": [
    "plt.plot(df.x, df.y, linestyle='none', marker='o')"
   ]
  },
  {
   "cell_type": "markdown",
   "id": "ab613ac5-8665-4d16-aca2-898dd820914a",
   "metadata": {},
   "source": [
    "$h_\\theta = \\theta_0 + \\theta_1 x$"
   ]
  },
  {
   "cell_type": "markdown",
   "id": "80b56804-90ce-4e6b-9a57-7a3f62f83589",
   "metadata": {},
   "source": [
    "![](images/pipeline.png)"
   ]
  },
  {
   "cell_type": "code",
   "execution_count": 21,
   "id": "f68397a0-c815-46cb-ae96-dbc0d66651e6",
   "metadata": {},
   "outputs": [],
   "source": [
    "def hypothesis(theta0, theta1, x):\n",
    "    return theta0 + theta1 * x"
   ]
  },
  {
   "cell_type": "code",
   "execution_count": 22,
   "id": "5b39c611-2ae0-4a5c-bddd-0900c9d259c7",
   "metadata": {},
   "outputs": [
    {
     "data": {
      "text/html": [
       "<div>\n",
       "<style scoped>\n",
       "    .dataframe tbody tr th:only-of-type {\n",
       "        vertical-align: middle;\n",
       "    }\n",
       "\n",
       "    .dataframe tbody tr th {\n",
       "        vertical-align: top;\n",
       "    }\n",
       "\n",
       "    .dataframe thead th {\n",
       "        text-align: right;\n",
       "    }\n",
       "</style>\n",
       "<table border=\"1\" class=\"dataframe\">\n",
       "  <thead>\n",
       "    <tr style=\"text-align: right;\">\n",
       "      <th></th>\n",
       "      <th>x</th>\n",
       "      <th>y</th>\n",
       "    </tr>\n",
       "  </thead>\n",
       "  <tbody>\n",
       "    <tr>\n",
       "      <th>0</th>\n",
       "      <td>24</td>\n",
       "      <td>21.549452</td>\n",
       "    </tr>\n",
       "    <tr>\n",
       "      <th>1</th>\n",
       "      <td>50</td>\n",
       "      <td>47.464463</td>\n",
       "    </tr>\n",
       "    <tr>\n",
       "      <th>2</th>\n",
       "      <td>15</td>\n",
       "      <td>17.218656</td>\n",
       "    </tr>\n",
       "    <tr>\n",
       "      <th>3</th>\n",
       "      <td>38</td>\n",
       "      <td>36.586398</td>\n",
       "    </tr>\n",
       "    <tr>\n",
       "      <th>4</th>\n",
       "      <td>87</td>\n",
       "      <td>87.288984</td>\n",
       "    </tr>\n",
       "    <tr>\n",
       "      <th>...</th>\n",
       "      <td>...</td>\n",
       "      <td>...</td>\n",
       "    </tr>\n",
       "    <tr>\n",
       "      <th>95</th>\n",
       "      <td>55</td>\n",
       "      <td>59.124489</td>\n",
       "    </tr>\n",
       "    <tr>\n",
       "      <th>96</th>\n",
       "      <td>0</td>\n",
       "      <td>1.100687</td>\n",
       "    </tr>\n",
       "    <tr>\n",
       "      <th>97</th>\n",
       "      <td>73</td>\n",
       "      <td>71.980208</td>\n",
       "    </tr>\n",
       "    <tr>\n",
       "      <th>98</th>\n",
       "      <td>35</td>\n",
       "      <td>30.136664</td>\n",
       "    </tr>\n",
       "    <tr>\n",
       "      <th>99</th>\n",
       "      <td>86</td>\n",
       "      <td>83.884274</td>\n",
       "    </tr>\n",
       "  </tbody>\n",
       "</table>\n",
       "<p>100 rows × 2 columns</p>\n",
       "</div>"
      ],
      "text/plain": [
       "     x          y\n",
       "0   24  21.549452\n",
       "1   50  47.464463\n",
       "2   15  17.218656\n",
       "3   38  36.586398\n",
       "4   87  87.288984\n",
       "..  ..        ...\n",
       "95  55  59.124489\n",
       "96   0   1.100687\n",
       "97  73  71.980208\n",
       "98  35  30.136664\n",
       "99  86  83.884274\n",
       "\n",
       "[100 rows x 2 columns]"
      ]
     },
     "execution_count": 22,
     "metadata": {},
     "output_type": "execute_result"
    }
   ],
   "source": [
    "df.head(100)"
   ]
  },
  {
   "cell_type": "code",
   "execution_count": 23,
   "id": "07ba369a-e74a-4ac3-b41b-1c9e7ace807b",
   "metadata": {},
   "outputs": [
    {
     "data": {
      "text/plain": [
       "(0, 100, 700)"
      ]
     },
     "execution_count": 23,
     "metadata": {},
     "output_type": "execute_result"
    }
   ],
   "source": [
    "df.x.min(), df.x.max(), df.shape[0]"
   ]
  },
  {
   "cell_type": "code",
   "execution_count": 27,
   "id": "5f7c7636-25d2-4ca0-ba36-0d68e34db4b5",
   "metadata": {},
   "outputs": [
    {
     "data": {
      "text/plain": [
       "[<matplotlib.lines.Line2D at 0x7f7dcac72e50>]"
      ]
     },
     "execution_count": 27,
     "metadata": {},
     "output_type": "execute_result"
    },
    {
     "data": {
      "image/png": "[encoded data removed]",
      "text/plain": [
       "<Figure size 432x288 with 1 Axes>"
      ]
     },
     "metadata": {
      "needs_background": "light"
     },
     "output_type": "display_data"
    }
   ],
   "source": [
    "plt.plot(df.x, df.y, linestyle='none', marker='o')\n",
    "plt.plot(df.x, hypothesis(20, 0, df.x.values), linestyle='none', marker='o')\n",
    "plt.plot(df.x, hypothesis(0, 0.6, df.x.values), linestyle='none', marker='o')\n",
    "plt.plot(df.x, hypothesis(0, 1, df.x.values), linestyle='none', marker='o')"
   ]
  },
  {
   "cell_type": "markdown",
   "id": "6a4d57ec-ab00-40b9-9ffa-7f5a91c92999",
   "metadata": {},
   "source": [
    "Hypothesis: $h_\\theta(x) = \\theta_0 + \\theta_1 * x$\n",
    "\n",
    "Parameters: $\\theta_0$, $\\theta_1$\n",
    "\n",
    "Loss Function: $J(\\theta_0, \\theta_1) = \\frac{1}{2m} \\sum_{i=1}^m (h_\\theta(x_i) - y_i)^2$\n",
    "\n",
    "Goal: minimize $J(\\theta_0, \\theta_1)$\n",
    "\n",
    "![](images/mse.png)"
   ]
  },
  {
   "cell_type": "code",
   "execution_count": 28,
   "id": "524cec27",
   "metadata": {},
   "outputs": [],
   "source": [
    "def mse(theta0, theta1, X, Y):\n",
    "    m = len(X)\n",
    "    sq_diff = [(hypothesis(theta0, theta1, x) - y)**2 for x, y in zip(X, Y)]\n",
    "    return 0.5 / m * np.sum(sq_diff)"
   ]
  },
  {
   "cell_type": "code",
   "execution_count": 29,
   "id": "d8a68176-17d2-42be-be6f-36c00b4e7ff7",
   "metadata": {},
   "outputs": [
    {
     "data": {
      "image/png": "[encoded data removed]",
      "text/plain": [
       "<Figure size 432x288 with 2 Axes>"
      ]
     },
     "metadata": {
      "needs_background": "light"
     },
     "output_type": "display_data"
    }
   ],
   "source": [
    "from matplotlib import cm\n",
    "from matplotlib.ticker import LinearLocator\n",
    "\n",
    "fig, ax = plt.subplots(subplot_kw={\"projection\": \"3d\"})\n",
    "\n",
    "# Make data.\n",
    "THETA0 = np.arange(-100, 156, 10)\n",
    "THETA1 = np.arange(-100, 156, 10)\n",
    "THETA0, THETA1 = np.meshgrid(THETA0, THETA1)\n",
    "\n",
    "Z = np.array([[mse(theta0, theta1, df.x.values, df.y.values) for theta1 in THETA1] for theta0 in THETA0])\n",
    "# Plot the surface.\n",
    "surf = ax.plot_surface(THETA0, THETA1, Z, cmap=cm.coolwarm,\n",
    "                       linewidth=0, antialiased=False)\n",
    "\n",
    "# Customize the z axis.\n",
    "ax.set_zlim(Z.min(), Z.max())\n",
    "ax.zaxis.set_major_locator(LinearLocator(10))\n",
    "# A StrMethodFormatter is used automatically\n",
    "ax.zaxis.set_major_formatter('{x:.02f}')\n",
    "\n",
    "# Add a color bar which maps values to colors.\n",
    "fig.colorbar(surf, shrink=0.5, aspect=5)\n",
    "\n",
    "plt.show()\n"
   ]
  },
  {
   "cell_type": "code",
   "execution_count": 36,
   "id": "f36d724f-55e8-4b30-b5ce-8bd96b038638",
   "metadata": {},
   "outputs": [
    {
     "name": "stdout",
     "output_type": "stream",
     "text": [
      "----------Test Data----------\n",
      "    x          y\n",
      "0  24  21.549452\n",
      "1  50  47.464463\n",
      "2  15  17.218656\n",
      "3  38  36.586398\n",
      "4  87  87.288984\n"
     ]
    },
    {
     "data": {
      "image/png": "[encoded data removed]",
      "text/plain": [
       "<Figure size 720x720 with 1 Axes>"
      ]
     },
     "metadata": {
      "needs_background": "light"
     },
     "output_type": "display_data"
    },
    {
     "data": {
      "image/png": "[encoded data removed]",
      "text/plain": [
       "<Figure size 720x720 with 1 Axes>"
      ]
     },
     "metadata": {
      "needs_background": "light"
     },
     "output_type": "display_data"
    }
   ],
   "source": [
    "import matplotlib.animation as animation\n",
    "import matplotlib.pyplot as plt\n",
    "import numpy as np\n",
    "import pandas as pd\n",
    "\n",
    "# Importing csv data as Pandas dataframe\n",
    "df_test = pd.read_csv(\"train.csv\")\n",
    "\n",
    "print(\"----------Test Data----------\")\n",
    "print(df_test.head())  # Printing first five rows of dataframe\n",
    "\n",
    "# Converting data to array for later calculations\n",
    "x_test = np.array(df_test[\"x\"])\n",
    "y_test = np.array(df_test[\"y\"])\n",
    "\n",
    "n = len(x_test)  # Number of samples in data\n",
    "\n",
    "iter = 0  # Initial iteration counter\n",
    "itersteps = 250  # Total number of iterations\n",
    "\n",
    "# Initial guesses for linear regression model of y=theta1*x+theta0 and arrays to keep track of values over iterations\n",
    "theta1 = np.zeros(itersteps)\n",
    "theta0 = np.zeros(itersteps)\n",
    "J = np.zeros(itersteps)\n",
    "dJdtheta1 = np.zeros(itersteps)\n",
    "dJdtheta0 = np.zeros(itersteps)\n",
    "\n",
    "learning_rate = 1e-5  # Step size\n",
    "\n",
    "for iter in range(itersteps - 1):\n",
    "\n",
    "    y_new = theta1[iter] * x_test + theta0[iter]\n",
    "\n",
    "    J[iter] = 1 / (2*n) * np.sum((y_test - y_new) ** 2)  # Mean Squared Error\n",
    "\n",
    "    dJdtheta0[iter] = 1 / n * np.sum((y_new - y_test))\n",
    "    dJdtheta1[iter] = 1 / n * np.sum((y_new - y_test) * x_test)\n",
    "    \n",
    "    theta1[iter + 1] = theta1[iter] - learning_rate * dJdtheta1[iter]\n",
    "    theta0[iter + 1] = theta0[iter] - learning_rate * dJdtheta0[iter]\n",
    "\n",
    "\n",
    "# Data to create a smooth line for the linear regression model\n",
    "x_min = min(x_test)\n",
    "x_max = max(x_test)\n",
    "x = np.linspace(x_min, x_max, n)\n",
    "y = theta1[0] * x + theta0[0]\n",
    "\n",
    "# Creating initial figure\n",
    "(\n",
    "    fig1,\n",
    "    ax,\n",
    ") = plt.subplots(figsize=(10, 10))\n",
    "ax.scatter(x_test, y_test)  # Initial scatter plot that does not get updated\n",
    "(line,) = ax.plot(x, y, \"red\")  # Initial linear fit\n",
    "ax.set_xlabel(\"X\")\n",
    "ax.set_ylabel(\"Y\")\n",
    "t1 = ax.text(\n",
    "    50, 25, f\"Eqn: y={str(round(theta1[iter], 4))}*x+{str(round(theta0[iter], 4))}\", fontsize=15\n",
    ")\n",
    "\n",
    "\n",
    "# Function updates data for plot animation using animation.FuncAnimation() below\n",
    "# The variable that is passed to this function from FuncAnimation is frames=itersteps-1\n",
    "# This acquires the data at every iteration step\n",
    "def update(iter):\n",
    "    y = (\n",
    "        theta1[iter] * x + theta0[iter]\n",
    "    )  # The linear fit data at each iteration using m and b values at that iteration\n",
    "    line.set_data(x, y)  # Updates linear fit data for plot\n",
    "    t1.set_text(f\"Eqn: y={str(round(theta1[iter], 4))}*x+{str(round(theta0[iter], 4))}\")\n",
    "    ax.set_title(f\"Linear Regression MSE: {J[iter]} iteration: {str(iter)}\")\n",
    "    # ax.legend(bbox_to_anchor=(1, 1.2), fontsize='x-small')  # legend location and font\n",
    "    return line, ax\n",
    "\n",
    "\n",
    "# Animation function after all the variables at each iteration have been calculated\n",
    "# Calls the function update and passes in the number of frames=itersteps-1 to get all the data at each iteration\n",
    "ani = animation.FuncAnimation(\n",
    "    fig1, update, frames=itersteps - 1, interval=10, blit=False, repeat_delay=100\n",
    ")\n",
    "ani.save(\"lin_reg.mp4\", fps=30, extra_args=[\"-vcodec\", \"libx264\"])  # Saves animation\n",
    "\n",
    "fig2, ax2 = plt.subplots(figsize=(10, 10))\n",
    "\n",
    "ax2.plot(J, label=\"SSE\", color=\"blue\")\n",
    "\n",
    "ax2.set_title(\"Errors\")\n",
    "ax2.set_xlabel(\"Number of Iterations\")\n",
    "ax2.set_ylabel(\"Error\", color=\"blue\")\n",
    "ax2.tick_params(\"y\", colors=\"blue\")\n",
    "\n",
    "fig2.savefig(\"errors.png\")  # saves figure\n"
   ]
  },
  {
   "cell_type": "code",
   "execution_count": 37,
   "id": "f712b4f4-5172-41d0-a88f-d550b9155ec7",
   "metadata": {},
   "outputs": [
    {
     "data": {
      "text/plain": [
       "array([1668.32622887, 1559.12054549, 1457.08022373, 1361.7351195 ,\n",
       "       1272.64593647, 1189.40220208, 1111.62037628, 1038.9420844 ,\n",
       "        971.03246597,  907.57863188,  848.28822275,  792.88806189,\n",
       "        741.12289671,  692.7542226 ,  647.55918405,  605.3295479 ,\n",
       "        565.87074385,  529.00096806,  494.55034546,  462.36014705,\n",
       "        432.2820586 ,  404.1774973 ,  377.91697322,  353.37949272,\n",
       "        330.45200097,  309.02886104,  289.01136722,  270.30729023,\n",
       "        252.83045226,  236.50032992,  221.24168323,  206.984209  ,\n",
       "        193.66221683,  181.21432653,  169.58318525,  158.71520328,\n",
       "        148.56030709,  139.07170867,  130.20568993,  121.92140127,\n",
       "        114.18067336,  106.94784131,  100.18958033,   93.87475216,\n",
       "         87.97426165,   82.46092268,   77.30933289,   72.49575669,\n",
       "         67.99801582,   63.79538725,   59.86850764,   56.19928414,\n",
       "         52.77081105,   49.56729191,   46.57396672,   43.77704391,\n",
       "         41.16363686,   38.72170445,   36.43999566,   34.30799765,\n",
       "         32.31588739,   30.45448635,   28.71521825,   27.09006953,\n",
       "         25.57155243,   24.15267047,   22.82688625,   21.58809131,\n",
       "         20.43057797,   19.34901308,   18.33841339,   17.39412263,\n",
       "         16.51179005,   15.68735035,   14.91700498,   14.19720463,\n",
       "         13.52463286,   12.89619084,   12.30898307,   11.76030403,\n",
       "         11.24762572,   10.76858599,   10.32097771,    9.90273856,\n",
       "          9.51194152,    9.14678602,    8.80558963,    8.48678031,\n",
       "          8.18888917,    7.9105437 ,    7.65046143,    7.40744406,\n",
       "          7.18037189,    6.96819871,    6.76994694,    6.58470316,\n",
       "          6.41161386,    6.24988154,    6.09876104,    5.95755608,\n",
       "          5.82561606,    5.70233308,    5.58713911,    5.47950343,\n",
       "          5.37893009,    5.28495571,    5.19714732,    5.11510033,\n",
       "          5.03843673,    4.9668033 ,    4.89986998,    4.83732838,\n",
       "          4.77889036,    4.72428665,    4.67326568,    4.62559237,\n",
       "          4.58104707,    4.53942454,    4.50053301,    4.46419329,\n",
       "          4.43023794,    4.39851051,    4.36886483,    4.34116431,\n",
       "          4.31528131,    4.29109658,    4.2684987 ,    4.24738354,\n",
       "          4.22765382,    4.20921863,    4.19199304,    4.17589768,\n",
       "          4.16085839,    4.14680587,    4.1336754 ,    4.12140645,\n",
       "          4.10994252,    4.09923077,    4.08922185,    4.07986966,\n",
       "          4.07113109,    4.06296589,    4.05533643,    4.04820757,\n",
       "          4.04154646,    4.03532241,    4.02950674,    4.02407265,\n",
       "          4.01899511,    4.01425073,    4.00981764,    4.00567541,\n",
       "          4.00180498,    3.99818849,    3.9948093 ,    3.99165183,\n",
       "          3.98870152,    3.9859448 ,    3.98336895,    3.98096211,\n",
       "          3.9787132 ,    3.97661184,    3.97464836,    3.97281371,\n",
       "          3.97109943,    3.96949763,    3.96800094,    3.96660244,\n",
       "          3.96529571,    3.96407471,    3.96293383,    3.9618678 ,\n",
       "          3.96087172,    3.95994099,    3.95907133,    3.95825873,\n",
       "          3.95749945,    3.95678999,    3.95612707,    3.95550766,\n",
       "          3.95492888,    3.95438808,    3.95388276,    3.95341059,\n",
       "          3.95296941,    3.95255717,    3.95217198,    3.95181206,\n",
       "          3.95147576,    3.95116152,    3.9508679 ,    3.95059355,\n",
       "          3.95033719,    3.95009766,    3.94987384,    3.9496647 ,\n",
       "          3.94946929,    3.9492867 ,    3.94911609,    3.94895667,\n",
       "          3.94880771,    3.94866852,    3.94853847,    3.94841695,\n",
       "          3.9483034 ,    3.9481973 ,    3.94809816,    3.94800552,\n",
       "          3.94791897,    3.94783809,    3.94776251,    3.9476919 ,\n",
       "          3.94762592,    3.94756426,    3.94750665,    3.94745282,\n",
       "          3.94740252,    3.94735552,    3.94731161,    3.94727057,\n",
       "          3.94723223,    3.9471964 ,    3.94716292,    3.94713164,\n",
       "          3.94710241,    3.94707509,    3.94704957,    3.94702572,\n",
       "          3.94700344,    3.94698262,    3.94696316,    3.94694498,\n",
       "          3.94692799,    3.94691211,    3.94689728,    3.94688342,\n",
       "          3.94687046,    3.94685836,    3.94684705,    3.94683648,\n",
       "          3.9468266 ,    3.94681737,    3.94680875,    3.94680069,\n",
       "          3.94679316,    3.94678612,    3.94677954,    3.9467734 ,\n",
       "          3.94676765,    0.        ])"
      ]
     },
     "execution_count": 37,
     "metadata": {},
     "output_type": "execute_result"
    }
   ],
   "source": [
    "J"
   ]
  },
  {
   "cell_type": "markdown",
   "id": "9df18fb8-0f37-4df6-8275-4dcabbee6a28",
   "metadata": {},
   "source": [
    "## Titanic dataset for DT"
   ]
  },
  {
   "cell_type": "code",
   "execution_count": 40,
   "id": "3768d304-db79-4b56-a12f-ec77ee0d3607",
   "metadata": {},
   "outputs": [],
   "source": [
    "import pandas as pd\n",
    "import numpy as np\n",
    "\n",
    "import math\n",
    "\n",
    "from sklearn.tree import DecisionTreeClassifier, plot_tree"
   ]
  },
  {
   "cell_type": "markdown",
   "id": "ea5f58c7-07b2-477d-9e09-a0f77bee6e28",
   "metadata": {},
   "source": [
    "## Gini index (gini impurity)\n",
    "\n",
    "- $N$ - number of samples\n",
    "- $p_i$ - probability of i-th class\n",
    "\n",
    "$Gini = \\sum_{i=0}^{N-1} p_i(1-p_i)$\n",
    "\n",
    "For binary case $p_0 = 1 - p_1$\n",
    "\n",
    "$Gini = \\sum_{i=0}^{N-1} p_i(1-p_i) = p_0(1-p_0) + p_1(1-p_1) = 2p_0(1-p0)$"
   ]
  },
  {
   "cell_type": "code",
   "execution_count": 70,
   "id": "af7aa825-584a-489e-841e-faf1f620a196",
   "metadata": {},
   "outputs": [],
   "source": [
    "def gini(samples):\n",
    "    sample_sum = sum(samples)\n",
    "    score = 0\n",
    "    probas = []\n",
    "    for sample in samples:\n",
    "        proba = sample / sample_sum\n",
    "        probas.append(proba)\n",
    "    for proba in probas:\n",
    "        score += proba * (1 - proba)\n",
    "    return score"
   ]
  },
  {
   "cell_type": "code",
   "execution_count": 71,
   "id": "85f6e8e9-6cb6-4a2a-8ff2-9079294dc78a",
   "metadata": {},
   "outputs": [
    {
     "data": {
      "text/plain": [
       "0.6527777777777777"
      ]
     },
     "execution_count": 71,
     "metadata": {},
     "output_type": "execute_result"
    }
   ],
   "source": [
    "samples = [100, 75, 125]\n",
    "gini(samples)"
   ]
  },
  {
   "cell_type": "code",
   "execution_count": 43,
   "id": "b1245f18-1093-44fe-ae05-e17ae0efb2f6",
   "metadata": {},
   "outputs": [],
   "source": [
    "train = pd.read_csv(\"titanic.csv\")"
   ]
  },
  {
   "cell_type": "code",
   "execution_count": 44,
   "id": "2401191c-55e1-42ac-8897-03396ab8ad4b",
   "metadata": {},
   "outputs": [
    {
     "data": {
      "text/html": [
       "<div>\n",
       "<style scoped>\n",
       "    .dataframe tbody tr th:only-of-type {\n",
       "        vertical-align: middle;\n",
       "    }\n",
       "\n",
       "    .dataframe tbody tr th {\n",
       "        vertical-align: top;\n",
       "    }\n",
       "\n",
       "    .dataframe thead th {\n",
       "        text-align: right;\n",
       "    }\n",
       "</style>\n",
       "<table border=\"1\" class=\"dataframe\">\n",
       "  <thead>\n",
       "    <tr style=\"text-align: right;\">\n",
       "      <th></th>\n",
       "      <th>PassengerId</th>\n",
       "      <th>Survived</th>\n",
       "      <th>Pclass</th>\n",
       "      <th>Name</th>\n",
       "      <th>Sex</th>\n",
       "      <th>Age</th>\n",
       "      <th>SibSp</th>\n",
       "      <th>Parch</th>\n",
       "      <th>Ticket</th>\n",
       "      <th>Fare</th>\n",
       "      <th>Cabin</th>\n",
       "      <th>Embarked</th>\n",
       "    </tr>\n",
       "  </thead>\n",
       "  <tbody>\n",
       "    <tr>\n",
       "      <th>0</th>\n",
       "      <td>1</td>\n",
       "      <td>0</td>\n",
       "      <td>3</td>\n",
       "      <td>Braund, Mr. Owen Harris</td>\n",
       "      <td>male</td>\n",
       "      <td>22.0</td>\n",
       "      <td>1</td>\n",
       "      <td>0</td>\n",
       "      <td>A/5 21171</td>\n",
       "      <td>7.2500</td>\n",
       "      <td>NaN</td>\n",
       "      <td>S</td>\n",
       "    </tr>\n",
       "    <tr>\n",
       "      <th>1</th>\n",
       "      <td>2</td>\n",
       "      <td>1</td>\n",
       "      <td>1</td>\n",
       "      <td>Cumings, Mrs. John Bradley (Florence Briggs Th...</td>\n",
       "      <td>female</td>\n",
       "      <td>38.0</td>\n",
       "      <td>1</td>\n",
       "      <td>0</td>\n",
       "      <td>PC 17599</td>\n",
       "      <td>71.2833</td>\n",
       "      <td>C85</td>\n",
       "      <td>C</td>\n",
       "    </tr>\n",
       "    <tr>\n",
       "      <th>2</th>\n",
       "      <td>3</td>\n",
       "      <td>1</td>\n",
       "      <td>3</td>\n",
       "      <td>Heikkinen, Miss. Laina</td>\n",
       "      <td>female</td>\n",
       "      <td>26.0</td>\n",
       "      <td>0</td>\n",
       "      <td>0</td>\n",
       "      <td>STON/O2. 3101282</td>\n",
       "      <td>7.9250</td>\n",
       "      <td>NaN</td>\n",
       "      <td>S</td>\n",
       "    </tr>\n",
       "    <tr>\n",
       "      <th>3</th>\n",
       "      <td>4</td>\n",
       "      <td>1</td>\n",
       "      <td>1</td>\n",
       "      <td>Futrelle, Mrs. Jacques Heath (Lily May Peel)</td>\n",
       "      <td>female</td>\n",
       "      <td>35.0</td>\n",
       "      <td>1</td>\n",
       "      <td>0</td>\n",
       "      <td>113803</td>\n",
       "      <td>53.1000</td>\n",
       "      <td>C123</td>\n",
       "      <td>S</td>\n",
       "    </tr>\n",
       "    <tr>\n",
       "      <th>4</th>\n",
       "      <td>5</td>\n",
       "      <td>0</td>\n",
       "      <td>3</td>\n",
       "      <td>Allen, Mr. William Henry</td>\n",
       "      <td>male</td>\n",
       "      <td>35.0</td>\n",
       "      <td>0</td>\n",
       "      <td>0</td>\n",
       "      <td>373450</td>\n",
       "      <td>8.0500</td>\n",
       "      <td>NaN</td>\n",
       "      <td>S</td>\n",
       "    </tr>\n",
       "  </tbody>\n",
       "</table>\n",
       "</div>"
      ],
      "text/plain": [
       "   PassengerId  Survived  Pclass  \\\n",
       "0            1         0       3   \n",
       "1            2         1       1   \n",
       "2            3         1       3   \n",
       "3            4         1       1   \n",
       "4            5         0       3   \n",
       "\n",
       "                                                Name     Sex   Age  SibSp  \\\n",
       "0                            Braund, Mr. Owen Harris    male  22.0      1   \n",
       "1  Cumings, Mrs. John Bradley (Florence Briggs Th...  female  38.0      1   \n",
       "2                             Heikkinen, Miss. Laina  female  26.0      0   \n",
       "3       Futrelle, Mrs. Jacques Heath (Lily May Peel)  female  35.0      1   \n",
       "4                           Allen, Mr. William Henry    male  35.0      0   \n",
       "\n",
       "   Parch            Ticket     Fare Cabin Embarked  \n",
       "0      0         A/5 21171   7.2500   NaN        S  \n",
       "1      0          PC 17599  71.2833   C85        C  \n",
       "2      0  STON/O2. 3101282   7.9250   NaN        S  \n",
       "3      0            113803  53.1000  C123        S  \n",
       "4      0            373450   8.0500   NaN        S  "
      ]
     },
     "execution_count": 44,
     "metadata": {},
     "output_type": "execute_result"
    }
   ],
   "source": [
    "train.head()"
   ]
  },
  {
   "cell_type": "code",
   "execution_count": null,
   "id": "bd8d8a25-b07b-4268-85f2-cf7454fb367e",
   "metadata": {},
   "outputs": [],
   "source": [
    "# WG P<=1.5 0.43\n",
    "# WG P<=2.5 0.42\n",
    "# WG S<=0.5 0.33"
   ]
  },
  {
   "cell_type": "code",
   "execution_count": null,
   "id": "c87443fa-64c7-40dc-b154-b675675bffe8",
   "metadata": {},
   "outputs": [],
   "source": []
  },
  {
   "cell_type": "code",
   "execution_count": null,
   "id": "879eae03-5f72-4457-a82c-575132975a67",
   "metadata": {},
   "outputs": [],
   "source": []
  },
  {
   "cell_type": "code",
   "execution_count": null,
   "id": "0f8327d5-688e-4c52-8fc9-17c9e832c122",
   "metadata": {},
   "outputs": [],
   "source": []
  },
  {
   "cell_type": "code",
   "execution_count": 45,
   "id": "5273e270-4a4e-4554-933e-7abfad2534b5",
   "metadata": {},
   "outputs": [],
   "source": [
    "train = train[[\"Pclass\", \"Sex\", \"Survived\"]]\n",
    "\n",
    "sex_dict = {\"male\": 0, \"female\": 1}\n",
    "train.Sex = train.Sex.map(sex_dict)"
   ]
  },
  {
   "cell_type": "code",
   "execution_count": 69,
   "id": "56e87286-1c39-4868-9a77-4b35f902a15a",
   "metadata": {},
   "outputs": [
    {
     "data": {
      "text/plain": [
       "array([3, 1, 2])"
      ]
     },
     "execution_count": 69,
     "metadata": {},
     "output_type": "execute_result"
    }
   ],
   "source": [
    "train.Pclass.unique()"
   ]
  },
  {
   "cell_type": "code",
   "execution_count": 46,
   "id": "65c970fd-b93d-467e-92b0-0f5f8229766e",
   "metadata": {},
   "outputs": [
    {
     "data": {
      "text/html": [
       "<div>\n",
       "<style scoped>\n",
       "    .dataframe tbody tr th:only-of-type {\n",
       "        vertical-align: middle;\n",
       "    }\n",
       "\n",
       "    .dataframe tbody tr th {\n",
       "        vertical-align: top;\n",
       "    }\n",
       "\n",
       "    .dataframe thead th {\n",
       "        text-align: right;\n",
       "    }\n",
       "</style>\n",
       "<table border=\"1\" class=\"dataframe\">\n",
       "  <thead>\n",
       "    <tr style=\"text-align: right;\">\n",
       "      <th></th>\n",
       "      <th>Pclass</th>\n",
       "      <th>Sex</th>\n",
       "      <th>Survived</th>\n",
       "    </tr>\n",
       "  </thead>\n",
       "  <tbody>\n",
       "    <tr>\n",
       "      <th>0</th>\n",
       "      <td>3</td>\n",
       "      <td>0</td>\n",
       "      <td>0</td>\n",
       "    </tr>\n",
       "    <tr>\n",
       "      <th>1</th>\n",
       "      <td>1</td>\n",
       "      <td>1</td>\n",
       "      <td>1</td>\n",
       "    </tr>\n",
       "    <tr>\n",
       "      <th>2</th>\n",
       "      <td>3</td>\n",
       "      <td>1</td>\n",
       "      <td>1</td>\n",
       "    </tr>\n",
       "    <tr>\n",
       "      <th>3</th>\n",
       "      <td>1</td>\n",
       "      <td>1</td>\n",
       "      <td>1</td>\n",
       "    </tr>\n",
       "    <tr>\n",
       "      <th>4</th>\n",
       "      <td>3</td>\n",
       "      <td>0</td>\n",
       "      <td>0</td>\n",
       "    </tr>\n",
       "  </tbody>\n",
       "</table>\n",
       "</div>"
      ],
      "text/plain": [
       "   Pclass  Sex  Survived\n",
       "0       3    0         0\n",
       "1       1    1         1\n",
       "2       3    1         1\n",
       "3       1    1         1\n",
       "4       3    0         0"
      ]
     },
     "execution_count": 46,
     "metadata": {},
     "output_type": "execute_result"
    }
   ],
   "source": [
    "train.head()"
   ]
  },
  {
   "cell_type": "code",
   "execution_count": 47,
   "id": "bd588e97-48d1-4d0f-ae98-5072294f5604",
   "metadata": {},
   "outputs": [
    {
     "data": {
      "text/plain": [
       "3    491\n",
       "1    216\n",
       "2    184\n",
       "Name: Pclass, dtype: int64"
      ]
     },
     "execution_count": 47,
     "metadata": {},
     "output_type": "execute_result"
    }
   ],
   "source": [
    "train.Pclass.value_counts()"
   ]
  },
  {
   "cell_type": "code",
   "execution_count": 48,
   "id": "5cc7cfe7-61b0-4774-b391-3b22ab9cfa0b",
   "metadata": {},
   "outputs": [
    {
     "data": {
      "text/plain": [
       "0    549\n",
       "1    342\n",
       "Name: Survived, dtype: int64"
      ]
     },
     "execution_count": 48,
     "metadata": {},
     "output_type": "execute_result"
    }
   ],
   "source": [
    "train.Survived.value_counts()"
   ]
  },
  {
   "cell_type": "code",
   "execution_count": 49,
   "id": "8f5abaf9-f32b-42c1-aee9-23d56d704f5e",
   "metadata": {},
   "outputs": [
    {
     "data": {
      "text/plain": [
       "0.4730129578614427"
      ]
     },
     "execution_count": 49,
     "metadata": {},
     "output_type": "execute_result"
    }
   ],
   "source": [
    "gini([549, 342])"
   ]
  },
  {
   "cell_type": "code",
   "execution_count": 73,
   "id": "485a4e88-2bfa-4aee-a84f-9c387ec49bc9",
   "metadata": {},
   "outputs": [
    {
     "data": {
      "text/plain": [
       "(891, 3)"
      ]
     },
     "execution_count": 73,
     "metadata": {},
     "output_type": "execute_result"
    }
   ],
   "source": [
    "train.shape"
   ]
  },
  {
   "cell_type": "code",
   "execution_count": 75,
   "id": "5704450a-70e2-4977-b101-58c0c8564b25",
   "metadata": {},
   "outputs": [
    {
     "data": {
      "text/plain": [
       "1    136\n",
       "0     80\n",
       "Name: Survived, dtype: int64"
      ]
     },
     "execution_count": 75,
     "metadata": {},
     "output_type": "execute_result"
    }
   ],
   "source": [
    "train[train.Pclass <= 1.5].Survived.value_counts()"
   ]
  },
  {
   "cell_type": "code",
   "execution_count": 51,
   "id": "7f129980-6cba-4d3c-8b3a-1397e8a114ab",
   "metadata": {},
   "outputs": [
    {
     "data": {
      "text/plain": [
       "0.4663923182441701"
      ]
     },
     "execution_count": 51,
     "metadata": {},
     "output_type": "execute_result"
    }
   ],
   "source": [
    "gini([80, 136])"
   ]
  },
  {
   "cell_type": "code",
   "execution_count": 52,
   "id": "bf407082-5bcf-4e7c-ad79-6f2265a235d6",
   "metadata": {},
   "outputs": [
    {
     "data": {
      "text/plain": [
       "0    469\n",
       "1    206\n",
       "Name: Survived, dtype: int64"
      ]
     },
     "execution_count": 52,
     "metadata": {},
     "output_type": "execute_result"
    }
   ],
   "source": [
    "train[train.Pclass > 1.5].Survived.value_counts()"
   ]
  },
  {
   "cell_type": "code",
   "execution_count": 53,
   "id": "3f36eb8b-1c45-4584-8be8-8f7bb2501134",
   "metadata": {},
   "outputs": [
    {
     "data": {
      "text/plain": [
       "0.4240943758573388"
      ]
     },
     "execution_count": 53,
     "metadata": {},
     "output_type": "execute_result"
    }
   ],
   "source": [
    "gini([469, 206])"
   ]
  },
  {
   "cell_type": "code",
   "execution_count": 76,
   "id": "82593d94-144c-4aa5-9129-883bd392ad1f",
   "metadata": {},
   "outputs": [
    {
     "data": {
      "text/plain": [
       "0.4343484224965707"
      ]
     },
     "execution_count": 76,
     "metadata": {},
     "output_type": "execute_result"
    }
   ],
   "source": [
    "# weighted_gini\n",
    "(0.4663923182441701 * 216 + 0.4240943758573388 * 675) / (216 + 675)"
   ]
  },
  {
   "cell_type": "code",
   "execution_count": 55,
   "id": "e3d8dbc2-8a5d-480a-b198-c338ce7247f4",
   "metadata": {},
   "outputs": [
    {
     "data": {
      "text/plain": [
       "1    223\n",
       "0    177\n",
       "Name: Survived, dtype: int64"
      ]
     },
     "execution_count": 55,
     "metadata": {},
     "output_type": "execute_result"
    }
   ],
   "source": [
    "train[train.Pclass <= 2.5].Survived.value_counts()"
   ]
  },
  {
   "cell_type": "code",
   "execution_count": 79,
   "id": "a3ae9a2b-ed85-43e1-b98a-71d28cef5298",
   "metadata": {},
   "outputs": [
    {
     "data": {
      "text/plain": [
       "0.4933875"
      ]
     },
     "execution_count": 79,
     "metadata": {},
     "output_type": "execute_result"
    }
   ],
   "source": [
    "gini([223, 177])"
   ]
  },
  {
   "cell_type": "code",
   "execution_count": 80,
   "id": "33495bc0-9cfe-45b5-bb87-c00ae7be806f",
   "metadata": {},
   "outputs": [
    {
     "data": {
      "text/plain": [
       "0    372\n",
       "1    119\n",
       "Name: Survived, dtype: int64"
      ]
     },
     "execution_count": 80,
     "metadata": {},
     "output_type": "execute_result"
    }
   ],
   "source": [
    "train[train.Pclass > 2.5].Survived.value_counts()"
   ]
  },
  {
   "cell_type": "code",
   "execution_count": 81,
   "id": "4b252b8d-b9ff-4ad2-8a62-c4c89190986c",
   "metadata": {},
   "outputs": [
    {
     "data": {
      "text/plain": [
       "0.36724586342349663"
      ]
     },
     "execution_count": 81,
     "metadata": {},
     "output_type": "execute_result"
    }
   ],
   "source": [
    "gini([372, 119])"
   ]
  },
  {
   "cell_type": "code",
   "execution_count": 82,
   "id": "bbfb263b-a415-4ec1-bb7f-148e739c9f93",
   "metadata": {},
   "outputs": [
    {
     "data": {
      "text/plain": [
       "0.42387510543315027"
      ]
     },
     "execution_count": 82,
     "metadata": {},
     "output_type": "execute_result"
    }
   ],
   "source": [
    "(0.4933875*400 + 0.36724586342349663*491) / (400 + 491)"
   ]
  },
  {
   "cell_type": "code",
   "execution_count": 60,
   "id": "3a13d0c6-148f-42e5-8245-f9d471853c9c",
   "metadata": {},
   "outputs": [
    {
     "data": {
      "text/plain": [
       "0    468\n",
       "1    109\n",
       "Name: Survived, dtype: int64"
      ]
     },
     "execution_count": 60,
     "metadata": {},
     "output_type": "execute_result"
    }
   ],
   "source": [
    "train[train.Sex <= 0.5].Survived.value_counts()"
   ]
  },
  {
   "cell_type": "code",
   "execution_count": 61,
   "id": "82fbd8cc-da33-4bcf-aedf-ac86c6ae0c99",
   "metadata": {},
   "outputs": [
    {
     "data": {
      "text/plain": [
       "0.3064437162277843"
      ]
     },
     "execution_count": 61,
     "metadata": {},
     "output_type": "execute_result"
    }
   ],
   "source": [
    "gini([468, 109])"
   ]
  },
  {
   "cell_type": "code",
   "execution_count": 62,
   "id": "c4322d12-91c1-4e23-adef-1217a394cfbf",
   "metadata": {},
   "outputs": [
    {
     "data": {
      "text/plain": [
       "1    233\n",
       "0     81\n",
       "Name: Survived, dtype: int64"
      ]
     },
     "execution_count": 62,
     "metadata": {},
     "output_type": "execute_result"
    }
   ],
   "source": [
    "train[train.Sex > 0.5].Survived.value_counts()"
   ]
  },
  {
   "cell_type": "code",
   "execution_count": 63,
   "id": "d4aa7ae9-da50-4388-a0cd-35eac0b32be0",
   "metadata": {},
   "outputs": [
    {
     "data": {
      "text/plain": [
       "0.38283500344841576"
      ]
     },
     "execution_count": 63,
     "metadata": {},
     "output_type": "execute_result"
    }
   ],
   "source": [
    "gini([233, 81])"
   ]
  },
  {
   "cell_type": "code",
   "execution_count": 64,
   "id": "101d7f81-c40f-4e68-9dec-c3897e033c9b",
   "metadata": {},
   "outputs": [
    {
     "data": {
      "text/plain": [
       "0.33336500038859046"
      ]
     },
     "execution_count": 64,
     "metadata": {},
     "output_type": "execute_result"
    }
   ],
   "source": [
    "(0.3064437162277843*577 + 0.38283500344841576*314) / (314 + 577)"
   ]
  },
  {
   "cell_type": "code",
   "execution_count": 67,
   "id": "4f436d7d-4a6c-4dcc-98b4-dd507b6bc877",
   "metadata": {},
   "outputs": [
    {
     "data": {
      "text/plain": [
       "0    549\n",
       "1    342\n",
       "Name: Survived, dtype: int64"
      ]
     },
     "execution_count": 67,
     "metadata": {},
     "output_type": "execute_result"
    }
   ],
   "source": [
    "train.Survived.value_counts()"
   ]
  },
  {
   "cell_type": "code",
   "execution_count": 65,
   "id": "0a126b9e-aea2-4b69-a601-ce8149066ad1",
   "metadata": {},
   "outputs": [
    {
     "data": {
      "image/png": "[encoded data removed]",
      "text/plain": [
       "<Figure size 1440x720 with 1 Axes>"
      ]
     },
     "metadata": {
      "needs_background": "light"
     },
     "output_type": "display_data"
    }
   ],
   "source": [
    "feature = [\"Sex\", \"Pclass\"]\n",
    "model = DecisionTreeClassifier()\n",
    "\n",
    "model.fit(train[feature], train.Survived)\n",
    "\n",
    "plt.figure(figsize=(20, 10))\n",
    "plot_tree(model, feature_names=feature)\n",
    "plt.show()"
   ]
  },
  {
   "cell_type": "code",
   "execution_count": null,
   "id": "bd46ad43-5805-4e8c-90d1-09d0cc8c62f7",
   "metadata": {},
   "outputs": [],
   "source": []
  }
 ],
 "metadata": {
  "kernelspec": {
   "display_name": "Python 3",
   "language": "python",
   "name": "python3"
  },
  "language_info": {
   "codemirror_mode": {
    "name": "ipython",
    "version": 3
   },
   "file_extension": ".py",
   "mimetype": "text/x-python",
   "name": "python",
   "nbconvert_exporter": "python",
   "pygments_lexer": "ipython3",
   "version": "3.8.8"
  }
 },
 "nbformat": 4,
 "nbformat_minor": 5
}
